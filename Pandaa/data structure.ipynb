{
 "cells": [
  {
   "cell_type": "code",
   "execution_count": null,
   "id": "91bfba60-8a16-4004-924f-fca0f1dfde1d",
   "metadata": {},
   "outputs": [],
   "source": [
    "# Pandas is a powerful, open-source Python library used for data manipulation, cleaning, and analysis. It provides two main data structures:\n",
    "\n",
    "# Series: A one-dimensional labeled array\n",
    "# DataFrame: A two-dimensional labeled table (like an Excel sheet or SQL table)\n",
    "# it is 2d tables with rows and colums\n",
    "#If you're working with tables, spreadsheets, or CSVs in Python—Pandas is your best friend.\n",
    "\n",
    "\n",
    "# Why Use Pandas?\n",
    "# Task\t             Without Pandas\t        With Pandas\n",
    "# Load a CSV\t     open() + loops\t        pd.read_csv()\n",
    "# Filter rows\t    Custom loop logic\t    df[df[\"col\"] > 5]\n",
    "# Group & summarize\tManual aggregation\t    df.groupby()\n",
    "# Merge two datasets  Nested loops\t        pd.merge()"
   ]
  },
  {
   "cell_type": "code",
   "execution_count": 13,
   "id": "f319d5fa-ae7b-4784-ac8d-9670d975bbe2",
   "metadata": {},
   "outputs": [
    {
     "name": "stdout",
     "output_type": "stream",
     "text": [
      "0    78\n",
      "1    58\n",
      "2    95\n",
      "3    75\n",
      "4    48\n",
      "5    62\n",
      "6    43\n",
      "7    25\n",
      "8    15\n",
      "dtype: int64\n"
     ]
    }
   ],
   "source": [
    "import pandas as pd\n",
    "s =pd.Series([78,58,95,75,48,62,43,25,15],)\n",
    "print(s)"
   ]
  },
  {
   "cell_type": "code",
   "execution_count": 15,
   "id": "ef43eb0b-ff6a-4331-81f6-37327983f9f1",
   "metadata": {},
   "outputs": [
    {
     "name": "stdout",
     "output_type": "stream",
     "text": [
      "first     78\n",
      "second    58\n",
      "third     95\n",
      "fourth    75\n",
      "fifth     48\n",
      "dtype: int64\n"
     ]
    }
   ],
   "source": [
    "arr =pd.Series([78,58,95,75,48,],index=[\"first\",\"second\",\"third\",\"fourth\",\"fifth\"])\n",
    "print(arr)"
   ]
  },
  {
   "cell_type": "code",
   "execution_count": 25,
   "id": "b9157e79-0107-4996-a3d0-4c09f109e435",
   "metadata": {},
   "outputs": [
    {
     "name": "stdout",
     "output_type": "stream",
     "text": [
      "      name  age       city\n",
      "0  Pratham   20      Delhi\n",
      "1   bhavin   30     Mumbai\n",
      "2    Rudra   35  Bangalore\n"
     ]
    }
   ],
   "source": [
    "data = {\n",
    "    \"name\": [\"Pratham\", \"bhavin\", \"Rudra\"],\n",
    "    \"age\": [20, 30, 35],\n",
    "    \"city\": [\"Delhi\", \"Mumbai\", \"Bangalore\"]\n",
    "}\n",
    "df = pd.DataFrame(data)\n",
    "print(df)"
   ]
  },
  {
   "cell_type": "code",
   "execution_count": null,
   "id": "74b4dfbf-ee8f-4c88-9396-07484cfe3f12",
   "metadata": {},
   "outputs": [],
   "source": []
  }
 ],
 "metadata": {
  "kernelspec": {
   "display_name": "Python [conda env:base] *",
   "language": "python",
   "name": "conda-base-py"
  },
  "language_info": {
   "codemirror_mode": {
    "name": "ipython",
    "version": 3
   },
   "file_extension": ".py",
   "mimetype": "text/x-python",
   "name": "python",
   "nbconvert_exporter": "python",
   "pygments_lexer": "ipython3",
   "version": "3.12.7"
  }
 },
 "nbformat": 4,
 "nbformat_minor": 5
}
