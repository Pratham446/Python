{
 "cells": [
  {
   "cell_type": "code",
   "execution_count": 15,
   "id": "c125d4f7-3692-4bb7-ae0e-12f5b22a7044",
   "metadata": {},
   "outputs": [],
   "source": [
    "file = open(\"text.txt\", \"r\")\n",
    "file.read()\n",
    "file.close()"
   ]
  },
  {
   "cell_type": "code",
   "execution_count": 41,
   "id": "8111da9e-1a63-4095-90de-9654028c93eb",
   "metadata": {},
   "outputs": [],
   "source": [
    "# s = \"this a writefile content\"\n",
    "# f = open(\"writefile.txt\", \"w\")\n",
    "# f.write(s)\n",
    "# f.close()"
   ]
  },
  {
   "cell_type": "code",
   "execution_count": 85,
   "id": "f8565238-aa03-4c97-8500-350e0a42b03b",
   "metadata": {},
   "outputs": [],
   "source": [
    "s = \"this is a write file\"\n",
    "f = open(\"test.txt\", \"w\")  # Opens file in write mode\n",
    "f.write(s)  # Writes content\n",
    "# f.close()  # Closes the file"
   ]
  },
  {
   "cell_type": "code",
   "execution_count": 103,
   "id": "cc41c72d-9893-49ff-9351-4cd08834d949",
   "metadata": {},
   "outputs": [
    {
     "name": "stdout",
     "output_type": "stream",
     "text": [
      "this is a write file\n"
     ]
    }
   ],
   "source": [
    "with open(\"test.txt\", \"r\") as file:\n",
    "    content = file.read()\n",
    "    print(content)"
   ]
  },
  {
   "cell_type": "code",
   "execution_count": 152,
   "id": "c62410e9-6e0f-407f-a4c6-5e0831a4e43e",
   "metadata": {},
   "outputs": [],
   "source": [
    "file = open(\"test.txt\", \"a\")\n",
    "file.write(\"\\n---This is an additional line.---\")\n",
    "file.close()"
   ]
  },
  {
   "cell_type": "code",
   "execution_count": 155,
   "id": "b8cd7c38-ed2e-4c08-937e-4e11d6953039",
   "metadata": {},
   "outputs": [
    {
     "name": "stdout",
     "output_type": "stream",
     "text": [
      "Successfully written to test.txt!\n",
      "\n",
      "Updated file content:\n",
      "this is a write file\n",
      "This is an additional line.\n",
      "This is an additional line.\n",
      "This is an additional line.\n",
      "This is an additional line.\n",
      "This is an additional line.\n",
      "This is an additional line.\n",
      "This is an additional line.\n",
      "This is an additional line.\n",
      "This is an additional line.\n",
      "---This is an additional line.---\n",
      "---This is an additional line.---\n",
      "---This is an additional line.---\n",
      "---This is an additional line.---\n",
      "---This is an additional line.---\n",
      "---This is an additional line.---\n",
      "---This is an additional line.---\n"
     ]
    }
   ],
   "source": [
    "filename = \"test.txt\"\n",
    "\n",
    "# Write\n",
    "with open(filename, \"a\") as file:\n",
    "    file.write(\"\\n---This is an additional line.---\")\n",
    "\n",
    "print(f\"Successfully written to {filename}!\")\n",
    "\n",
    "# Read\n",
    "with open(filename, \"r\") as file:\n",
    "    content = file.read()\n",
    "\n",
    "print(\"\\nUpdated file content:\")\n",
    "print(content)\n"
   ]
  }
 ],
 "metadata": {
  "kernelspec": {
   "display_name": "Python [conda env:base] *",
   "language": "python",
   "name": "conda-base-py"
  },
  "language_info": {
   "codemirror_mode": {
    "name": "ipython",
    "version": 3
   },
   "file_extension": ".py",
   "mimetype": "text/x-python",
   "name": "python",
   "nbconvert_exporter": "python",
   "pygments_lexer": "ipython3",
   "version": "3.12.7"
  }
 },
 "nbformat": 4,
 "nbformat_minor": 5
}
