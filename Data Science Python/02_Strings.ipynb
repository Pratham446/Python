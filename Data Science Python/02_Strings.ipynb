{
 "cells": [
  {
   "cell_type": "code",
   "execution_count": 28,
   "id": "b9f6ff2b-b0ab-4398-9442-a5287f59ed99",
   "metadata": {},
   "outputs": [
    {
     "name": "stdout",
     "output_type": "stream",
     "text": [
      "7\n"
     ]
    }
   ],
   "source": [
    "text = \"Pratham\"\n",
    "print(len(text))    # Output: 5\n"
   ]
  },
  {
   "cell_type": "code",
   "execution_count": 22,
   "id": "c971d023-6c02-4de4-a84f-a1eb18de9c78",
   "metadata": {},
   "outputs": [
    {
     "name": "stdout",
     "output_type": "stream",
     "text": [
      "HELLO\n"
     ]
    }
   ],
   "source": [
    "\n",
    "text.upper()"
   ]
  },
  {
   "cell_type": "code",
   "execution_count": 31,
   "id": "d9de1269-91aa-49ac-a075-597aeacc10d7",
   "metadata": {},
   "outputs": [
    {
     "data": {
      "text/plain": [
       "'pratham'"
      ]
     },
     "execution_count": 31,
     "metadata": {},
     "output_type": "execute_result"
    }
   ],
   "source": [
    "text.lower()"
   ]
  },
  {
   "cell_type": "code",
   "execution_count": 33,
   "id": "6cc50b83-8a62-4585-b508-23ada057a274",
   "metadata": {},
   "outputs": [
    {
     "data": {
      "text/plain": [
       "'Pratham'"
      ]
     },
     "execution_count": 33,
     "metadata": {},
     "output_type": "execute_result"
    }
   ],
   "source": [
    "text.strip()"
   ]
  },
  {
   "cell_type": "code",
   "execution_count": 35,
   "id": "a6ffb952-a323-4640-a35a-0fdc561ce5a8",
   "metadata": {},
   "outputs": [
    {
     "data": {
      "text/plain": [
       "'Darji'"
      ]
     },
     "execution_count": 35,
     "metadata": {},
     "output_type": "execute_result"
    }
   ],
   "source": [
    "text.replace(\"Pratham\",\"Darji\")"
   ]
  },
  {
   "cell_type": "code",
   "execution_count": 37,
   "id": "4899db61-d61a-4696-8a8a-2b33ce36ad3e",
   "metadata": {},
   "outputs": [
    {
     "data": {
      "text/plain": [
       "'Pratham'"
      ]
     },
     "execution_count": 37,
     "metadata": {},
     "output_type": "execute_result"
    }
   ],
   "source": [
    "text"
   ]
  },
  {
   "cell_type": "code",
   "execution_count": 39,
   "id": "7731c371-4589-4e01-bceb-3d23af5a0d0c",
   "metadata": {},
   "outputs": [
    {
     "data": {
      "text/plain": [
       "True"
      ]
     },
     "execution_count": 39,
     "metadata": {},
     "output_type": "execute_result"
    }
   ],
   "source": [
    "text.endswith(\"am\")"
   ]
  },
  {
   "cell_type": "code",
   "execution_count": 41,
   "id": "570d4444-59f5-40e6-a06f-6aa04b9706d1",
   "metadata": {},
   "outputs": [
    {
     "data": {
      "text/plain": [
       "False"
      ]
     },
     "execution_count": 41,
     "metadata": {},
     "output_type": "execute_result"
    }
   ],
   "source": [
    "text.islower()"
   ]
  },
  {
   "cell_type": "code",
   "execution_count": 43,
   "id": "41dd9e82-023c-4642-a875-2d1c8e38415b",
   "metadata": {},
   "outputs": [
    {
     "data": {
      "text/plain": [
       "True"
      ]
     },
     "execution_count": 43,
     "metadata": {},
     "output_type": "execute_result"
    }
   ],
   "source": [
    "text.isascii()"
   ]
  },
  {
   "cell_type": "code",
   "execution_count": 47,
   "id": "45ef19cf-3ff3-46f8-9707-c801a40f7f07",
   "metadata": {},
   "outputs": [
    {
     "name": "stdout",
     "output_type": "stream",
     "text": [
      "My name is Alice\n"
     ]
    }
   ],
   "source": [
    "name = \"Alice\"\n",
    "print(f\"My name is {name}\")"
   ]
  },
  {
   "cell_type": "code",
   "execution_count": 55,
   "id": "877e8167-ec06-46ff-9208-19ebc5a0ead6",
   "metadata": {},
   "outputs": [
    {
     "name": "stdout",
     "output_type": "stream",
     "text": [
      "my name is first\n"
     ]
    }
   ],
   "source": [
    "names = \"first\"\n",
    "print(f\"my name is {names}\")"
   ]
  },
  {
   "cell_type": "code",
   "execution_count": 73,
   "id": "c24cea1d-44db-4317-9917-bafda1f23b63",
   "metadata": {},
   "outputs": [
    {
     "name": "stdout",
     "output_type": "stream",
     "text": [
      "first,second,third\n"
     ]
    }
   ],
   "source": [
    "fruits = ['first', 'second', 'third']\n",
    "print(\",\".join(fruits))"
   ]
  },
  {
   "cell_type": "code",
   "execution_count": 65,
   "id": "7f8e10a1-a25e-4f65-8786-1233b68d0175",
   "metadata": {},
   "outputs": [
    {
     "name": "stdout",
     "output_type": "stream",
     "text": [
      "apple,banana,cherry\n"
     ]
    }
   ],
   "source": [
    "fruits = ['apple', 'banana', 'cherry']\n",
    "print(\",\".join(fruits))"
   ]
  }
 ],
 "metadata": {
  "kernelspec": {
   "display_name": "Python [conda env:base] *",
   "language": "python",
   "name": "conda-base-py"
  },
  "language_info": {
   "codemirror_mode": {
    "name": "ipython",
    "version": 3
   },
   "file_extension": ".py",
   "mimetype": "text/x-python",
   "name": "python",
   "nbconvert_exporter": "python",
   "pygments_lexer": "ipython3",
   "version": "3.12.7"
  }
 },
 "nbformat": 4,
 "nbformat_minor": 5
}
