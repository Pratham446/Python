{
 "cells": [
  {
   "cell_type": "code",
   "execution_count": 13,
   "id": "571cb9bb-6542-49c4-9a0a-a4ee3e2e462a",
   "metadata": {},
   "outputs": [
    {
     "data": {
      "text/plain": [
       "'{\"name\": \"Alice\", \"age\": 25, \"city\": \"New York\"}'"
      ]
     },
     "execution_count": 13,
     "metadata": {},
     "output_type": "execute_result"
    }
   ],
   "source": [
    "# Dupms convert python object to Json we use dumps\n",
    "\n",
    "import json\n",
    "data = {\"name\": \"Alice\", \"age\": 25, \"city\": \"New York\"}\n",
    "json.dumps(data)\n"
   ]
  },
  {
   "cell_type": "code",
   "execution_count": 15,
   "id": "26c28c97-921f-443b-9180-a388f08c29dc",
   "metadata": {},
   "outputs": [],
   "source": [
    "# Dump write Json Data to file : json data ko file me likne ke liye use hota hai \n",
    "\n",
    "with open(\"data.json\",\"w\") as file:\n",
    "    json.dump(data,file)"
   ]
  },
  {
   "cell_type": "code",
   "execution_count": 35,
   "id": "56612e44-5a1e-47ac-8991-fb386028c878",
   "metadata": {},
   "outputs": [
    {
     "name": "stdout",
     "output_type": "stream",
     "text": [
      "{'name': 'Alice', 'age': 25, 'city': 'New York'}\n"
     ]
    }
   ],
   "source": [
    "# Loads Convert JSON string to Python object\n",
    "\n",
    "d=json.loads('{\"name\": \"Alice\", \"age\": 25, \"city\": \"New York\"}') #suposse this is a json string \n",
    "print(d)"
   ]
  },
  {
   "cell_type": "code",
   "execution_count": 37,
   "id": "e27f4987-ecc4-4835-96bf-4c12402e6868",
   "metadata": {},
   "outputs": [
    {
     "data": {
      "text/plain": [
       "dict"
      ]
     },
     "execution_count": 37,
     "metadata": {},
     "output_type": "execute_result"
    }
   ],
   "source": [
    "type(d)"
   ]
  },
  {
   "cell_type": "code",
   "execution_count": 45,
   "id": "3e8167c0-7eb9-4ed5-9e57-a546da64e079",
   "metadata": {},
   "outputs": [
    {
     "name": "stdout",
     "output_type": "stream",
     "text": [
      "{'name': 'Alice', 'age': 25, 'city': 'New York'}\n"
     ]
    }
   ],
   "source": [
    "# load use to read a json data from file \n",
    "\n",
    "with open(\"data.json\",\"r\") as file:\n",
    "    pythondata =json.load(file)\n",
    "    print(pythondata)"
   ]
  }
 ],
 "metadata": {
  "kernelspec": {
   "display_name": "Python [conda env:base] *",
   "language": "python",
   "name": "conda-base-py"
  },
  "language_info": {
   "codemirror_mode": {
    "name": "ipython",
    "version": 3
   },
   "file_extension": ".py",
   "mimetype": "text/x-python",
   "name": "python",
   "nbconvert_exporter": "python",
   "pygments_lexer": "ipython3",
   "version": "3.12.7"
  }
 },
 "nbformat": 4,
 "nbformat_minor": 5
}
