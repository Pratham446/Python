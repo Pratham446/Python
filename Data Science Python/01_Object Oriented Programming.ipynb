{
 "cells": [
  {
   "cell_type": "code",
   "execution_count": 15,
   "id": "4e35f2d7-5dbc-4263-8999-8339d276489d",
   "metadata": {},
   "outputs": [
    {
     "name": "stdout",
     "output_type": "stream",
     "text": [
      "this is a data of config method\n"
     ]
    }
   ],
   "source": [
    "# Class \n",
    "\n",
    "class Computer :\n",
    "    def Config(self):   # Created a method  - Self is the object which we are passing obj will we stored in self\n",
    "        print(\"this is a data of config method\")\n",
    "\n",
    "obj = Computer() # created a object \n",
    "# now call the method with the help of object\n",
    "obj.Config() # obj goes to self \n"
   ]
  },
  {
   "cell_type": "code",
   "execution_count": 21,
   "id": "23351f0d-b7aa-4b02-a4eb-55b01701eb56",
   "metadata": {},
   "outputs": [
    {
     "name": "stdout",
     "output_type": "stream",
     "text": [
      "this is a init method/ Constuctor called automatically when object is created and called\n"
     ]
    }
   ],
   "source": [
    "# Init method works as a constructor automatically called when object is called\n",
    "class computer: \n",
    "       def __init__(self):\n",
    "        print(\"this is a init method/ Constuctor called automatically when object is created and called\")\n",
    "\n",
    "obj=computer()\n",
    "\n",
    "# Example 2\n",
    "\n",
    "class computer: \n",
    "       def __init__(self):\n",
    "        print(\"this is a init method/ Constuctor called automatically when object is created and called\")\n",
    "           \n",
    "       def myfunction(self):\n",
    "        print(\"this is my function/method in class computer and we will call with the help of object\")\n",
    "           \n",
    "obj=computer()\n",
    "obj.config()\n",
    "\n",
    "# Example 3\n",
    "\n",
    "# Assigning arguments to a function from object\n",
    "\n",
    "class Laptop:\n",
    "    def __init__(self, cpu ,ram):\n",
    "        self.cpu=cpu\n",
    "        self.ram=ram\n",
    "        print(self.cpu,self.ram)\n",
    " \n",
    "obj=Laptop('i5','16')\n",
    "        "
   ]
  },
  {
   "cell_type": "code",
   "execution_count": 58,
   "id": "5066f1a2-3322-46bb-8608-458744693488",
   "metadata": {},
   "outputs": [
    {
     "name": "stdout",
     "output_type": "stream",
     "text": [
      "this is a method with self\n",
      "this wont have any self method useage\n",
      "this name of employee is Pratham\n"
     ]
    }
   ],
   "source": [
    "# Static Method in python -> this is used when the self method is not been in use \n",
    "\n",
    "class employee:\n",
    "    name=\"Pratham\"\n",
    "    def __init__(self):   \n",
    "           print(\"this is a method with self\")\n",
    "   \n",
    "    @staticmethod   # this is a decorator use to tell method not to use any method like self or cls\n",
    "    def newmethod():\n",
    "           print(\"this wont have any self method useage\")\n",
    "           \n",
    "    @classmethod  # it tells method that it should accept all the attribute of class \n",
    "    def classmethod(cls): \n",
    "           print(f\"this name of employee is {cls.name}\")\n",
    "\n",
    "obj=employee()\n",
    "obj.newmethod()\n",
    "obj.classmethod()     \n",
    "\n",
    "\n"
   ]
  },
  {
   "cell_type": "code",
   "execution_count": 68,
   "id": "f9936235-a5b9-43aa-bfa9-d4383fbe78ac",
   "metadata": {},
   "outputs": [
    {
     "name": "stdout",
     "output_type": "stream",
     "text": [
      "This is a child class\n",
      "This is a Parent class\n"
     ]
    }
   ],
   "source": [
    "# Inherritance in Python \n",
    "\n",
    "class parent:\n",
    "    def show(self):\n",
    "        print(\"This is a Parent class\")\n",
    "\n",
    "class child(parent):\n",
    "    def display(self):\n",
    "        print(\"This is a child class\")\n",
    "\n",
    "obj=child()\n",
    "obj.display()\n",
    "obj.show()  # with the help of child class object we can access the parent class method"
   ]
  },
  {
   "cell_type": "code",
   "execution_count": 78,
   "id": "6f2b2632-8433-449b-ba65-a672cb7ac64a",
   "metadata": {},
   "outputs": [
    {
     "name": "stdout",
     "output_type": "stream",
     "text": [
      "this is third class\n",
      "this is first class\n"
     ]
    }
   ],
   "source": [
    "# Multilevel Inheritance \n",
    "\n",
    "class a:\n",
    "    def display(self):\n",
    "        print(\"this is first class\")\n",
    "\n",
    "class b:\n",
    "    def display(self):\n",
    "        print(\"this is first class\")\n",
    "\n",
    "class c(a,b):\n",
    "    print(\"this is third class\")\n",
    "\n",
    "\n",
    "obj=c()\n",
    "obj.display()"
   ]
  },
  {
   "cell_type": "code",
   "execution_count": 104,
   "id": "98ec7d34-225f-4767-a176-2f46cf78e766",
   "metadata": {},
   "outputs": [
    {
     "name": "stdout",
     "output_type": "stream",
     "text": [
      "animals are barking\n",
      "Dogs are barking\n"
     ]
    }
   ],
   "source": [
    "# Method Overriding \n",
    "#Method overriding happens when a subclass (child class) defines a method with the same name, parameters,\n",
    "#and signature as a method in its superclass (parent class). When you call that method using an object of \n",
    "#the child class, the child’s version is executed, not the parent’s.\n",
    "\n",
    "class animal:\n",
    "    def sound(self):\n",
    "        print(\"animals are barking\")\n",
    "\n",
    "class dog(animal):\n",
    "    def sound(self):  # method overriding \n",
    "        super().sound() \n",
    "        print(\"Dogs are barking\")\n",
    "        \n",
    "obj=dog()\n",
    "obj.sound()\n",
    "\n",
    "\n",
    "# we can call parent class’s method from the child class using super():\n",
    "\n"
   ]
  },
  {
   "cell_type": "code",
   "execution_count": 146,
   "id": "c0f31006-9655-489c-8b3f-615d15b902fb",
   "metadata": {},
   "outputs": [
    {
     "name": "stdout",
     "output_type": "stream",
     "text": [
      "Deposited Amount $2000\n",
      "Account Holder: Pratham\n",
      "Current Balance: $52000\n",
      "Withdrew $100\n",
      "Account Holder: Pratham\n",
      "Current Balance: $51900\n"
     ]
    }
   ],
   "source": [
    "#Encapsulation\n",
    "# Key Benefits of Encapsulation:\n",
    "# Protects internal state of an object.\n",
    "# Improves code maintainability.\n",
    "\n",
    "\n",
    "class BankAccount:\n",
    "    def __init__(self,Account_holder,Initial_balance):\n",
    "        self.Account_holder=Account_holder              #Public attribute\n",
    "        self.__Initial_balance=Initial_balance          #Private Attribute\n",
    "\n",
    "#Public method to deposit money\n",
    "    def deposit(self,amount):\n",
    "        \n",
    "        if amount > 0:\n",
    "           self.__Initial_balance += amount\n",
    "           print(f\"Deposited Amount ${amount}\")\n",
    "        else:\n",
    "           print(f\"Please enter Positive number\")\n",
    "\n",
    "    def withdraw(self,amount):\n",
    "       \n",
    "        if amount < 0:\n",
    "           print(f\"Please enter Positive number\")\n",
    "        elif amount>self.__Initial_balance:\n",
    "           print(\"Insufficient balance.\")\n",
    "        else:\n",
    "           self.__Initial_balance -=amount\n",
    "           print(f\"Withdrew ${amount}\")\n",
    "    def get_balance(self):\n",
    "        \n",
    "        return self._Initial_balance\n",
    "\n",
    "\n",
    "    def show_account(self):\n",
    "        print(f\"Account Holder: {self.Account_holder}\")\n",
    "        print(f\"Current Balance: ${self.__Initial_balance}\")\n",
    "\n",
    "obj=BankAccount(\"Pratham\",50000)\n",
    "obj.deposit(2000)\n",
    "obj.show_account()\n",
    "obj.withdraw(100)\n",
    "obj.show_account()\n",
    "\n",
    "Output = \n",
    "Deposited Amount $2000\n",
    "Account Holder: Pratham\n",
    "Current Balance: $52000\n",
    "Withdrew $100\n",
    "Account Holder: Pratham\n",
    "Current Balance: $51900\n",
    "       \n",
    "\n",
    "           "
   ]
  },
  {
   "cell_type": "code",
   "execution_count": null,
   "id": "84a76e5a-bc5a-4e1a-876d-b49b5c69195b",
   "metadata": {},
   "outputs": [],
   "source": []
  }
 ],
 "metadata": {
  "kernelspec": {
   "display_name": "Python [conda env:base] *",
   "language": "python",
   "name": "conda-base-py"
  },
  "language_info": {
   "codemirror_mode": {
    "name": "ipython",
    "version": 3
   },
   "file_extension": ".py",
   "mimetype": "text/x-python",
   "name": "python",
   "nbconvert_exporter": "python",
   "pygments_lexer": "ipython3",
   "version": "3.12.7"
  }
 },
 "nbformat": 4,
 "nbformat_minor": 5
}
