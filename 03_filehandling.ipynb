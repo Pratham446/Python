{
 "cells": [
  {
   "cell_type": "code",
   "execution_count": 15,
   "id": "c125d4f7-3692-4bb7-ae0e-12f5b22a7044",
   "metadata": {},
   "outputs": [],
   "source": [
    "file = open(\"text.txt\", \"r\")\n",
    "file.read()\n",
    "file.close()"
   ]
  },
  {
   "cell_type": "code",
   "execution_count": 41,
   "id": "8111da9e-1a63-4095-90de-9654028c93eb",
   "metadata": {},
   "outputs": [],
   "source": [
    "# s = \"this a writefile content\"\n",
    "# f = open(\"writefile.txt\", \"w\")\n",
    "# f.write(s)\n",
    "# f.close()"
   ]
  },
  {
   "cell_type": "code",
   "execution_count": 85,
   "id": "f8565238-aa03-4c97-8500-350e0a42b03b",
   "metadata": {},
   "outputs": [],
   "source": [
    "s = \"this is a write file\"\n",
    "f = open(\"test.txt\", \"w\")  # Opens file in write mode\n",
    "f.write(s)  # Writes content\n",
    "# f.close()  # Closes the file"
   ]
  },
  {
   "cell_type": "code",
   "execution_count": 103,
   "id": "cc41c72d-9893-49ff-9351-4cd08834d949",
   "metadata": {},
   "outputs": [
    {
     "name": "stdout",
     "output_type": "stream",
     "text": [
      "this is a write file\n"
     ]
    }
   ],
   "source": [
    "with open(\"test.txt\", \"r\") as file:\n",
    "    content = file.read()\n",
    "    print(content)"
   ]
  }
 ],
 "metadata": {
  "kernelspec": {
   "display_name": "Python [conda env:base] *",
   "language": "python",
   "name": "conda-base-py"
  },
  "language_info": {
   "codemirror_mode": {
    "name": "ipython",
    "version": 3
   },
   "file_extension": ".py",
   "mimetype": "text/x-python",
   "name": "python",
   "nbconvert_exporter": "python",
   "pygments_lexer": "ipython3",
   "version": "3.12.7"
  }
 },
 "nbformat": 4,
 "nbformat_minor": 5
}
