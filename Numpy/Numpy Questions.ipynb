{
 "cells": [
  {
   "cell_type": "code",
   "execution_count": 1,
   "id": "60c3e317-3e3f-46df-86c1-9f9655627d18",
   "metadata": {},
   "outputs": [
    {
     "name": "stdout",
     "output_type": "stream",
     "text": [
      "[10 11 12 13 14 15 16 17 18 19 20 21 22 23 24 25 26 27 28 29 30 31 32 33\n",
      " 34 35 36 37 38 39 40 41 42 43 44 45 46 47 48 49]\n"
     ]
    }
   ],
   "source": [
    "# Create a NumPy array of integers from 10 to 50\n",
    "import numpy as np\n",
    "arr=np.array(range(10,50))\n",
    "print(arr)"
   ]
  },
  {
   "cell_type": "code",
   "execution_count": 23,
   "id": "b1c7d149-79af-4610-8d6d-1a54c06c0f9c",
   "metadata": {},
   "outputs": [
    {
     "name": "stdout",
     "output_type": "stream",
     "text": [
      "[[1 2 3]\n",
      " [4 5 6]\n",
      " [7 8 9]]\n"
     ]
    }
   ],
   "source": [
    "# Create a 3x3 matrix with values ranging from 1 to 9.\n",
    "array=np.arange(1,10).reshape(3,3)\n",
    "print(array)"
   ]
  },
  {
   "cell_type": "code",
   "execution_count": 37,
   "id": "5a2d2d2c-dcf7-4b36-8dbc-b63501a19f79",
   "metadata": {},
   "outputs": [
    {
     "name": "stdout",
     "output_type": "stream",
     "text": [
      "[[0. 0. 0. 0. 0.]\n",
      " [0. 0. 0. 0. 0.]\n",
      " [0. 0. 0. 0. 0.]\n",
      " [0. 0. 0. 0. 0.]\n",
      " [0. 0. 0. 0. 0.]]\n"
     ]
    }
   ],
   "source": [
    "# Create a 5x5 matrix filled with zeros.\n",
    "arrays=np.zeros((5,5))\n",
    "print(arrays)\n"
   ]
  },
  {
   "cell_type": "code",
   "execution_count": 39,
   "id": "ee108104-1edc-455c-aebc-af0e7631d70c",
   "metadata": {},
   "outputs": [
    {
     "name": "stdout",
     "output_type": "stream",
     "text": [
      "[[1. 0. 0. 0.]\n",
      " [0. 1. 0. 0.]\n",
      " [0. 0. 1. 0.]\n",
      " [0. 0. 0. 1.]]\n"
     ]
    }
   ],
   "source": [
    "# identity matrics\n",
    "array=np.eye(4)\n",
    "print(array)"
   ]
  },
  {
   "cell_type": "code",
   "execution_count": 57,
   "id": "d34133e5-92d8-44ca-ac0d-fc7f0d5f9366",
   "metadata": {},
   "outputs": [
    {
     "name": "stdout",
     "output_type": "stream",
     "text": [
      "0.458261223563712\n"
     ]
    }
   ],
   "source": [
    "# Random number between 0 and 1\n",
    "arr=np.random.rand()\n",
    "print(arr)"
   ]
  },
  {
   "cell_type": "code",
   "execution_count": 65,
   "id": "300165ff-7d45-45fe-807d-f7c7eee798c6",
   "metadata": {},
   "outputs": [
    {
     "name": "stdout",
     "output_type": "stream",
     "text": [
      "[92 33 12 67 59  8 75  4  3  4]\n"
     ]
    }
   ],
   "source": [
    "# 6. 10 random integers between 1 and 100\n",
    "a6 = np.random.randint(1, 101, size=10)\n",
    "print(a6)"
   ]
  },
  {
   "cell_type": "code",
   "execution_count": 75,
   "id": "98e9c2ee-a00f-4bfa-9647-782539c666fa",
   "metadata": {},
   "outputs": [
    {
     "name": "stdout",
     "output_type": "stream",
     "text": [
      "Min 3\n",
      "Max 92\n",
      "mean 35.7\n",
      "median 22.5\n"
     ]
    }
   ],
   "source": [
    "# 7. Max, Min, Mean of array\n",
    "print(\"Min\",np.min(a6))\n",
    "print(\"Max\",np.max(a6))\n",
    "print(\"mean\",np.mean(a6))\n",
    "print(\"median\",np.median(a6))"
   ]
  },
  {
   "cell_type": "code",
   "execution_count": 93,
   "id": "1eca3047-b134-4030-a678-ebd2e6825d41",
   "metadata": {},
   "outputs": [
    {
     "name": "stdout",
     "output_type": "stream",
     "text": [
      "[92 -1 12 -1 -1  8 -1  4 -1  4]\n"
     ]
    }
   ],
   "source": [
    "# 8. Replace odd numbers with -1\n",
    "a8 = np.array([92, 33, 12, 67, 59,  8, 75,  4,  3,  4])\n",
    "a8[a8 % 2 == 1] = -1\n",
    "print(a8)"
   ]
  },
  {
   "cell_type": "code",
   "execution_count": 113,
   "id": "54836d02-eabd-4cfd-8e95-a7b2241d636e",
   "metadata": {},
   "outputs": [
    {
     "name": "stdout",
     "output_type": "stream",
     "text": [
      "[[ 0  1  2  3]\n",
      " [ 4  5  6  7]\n",
      " [ 8  9 10 11]]\n"
     ]
    }
   ],
   "source": [
    "# 9. Reshape 1D array to 3x4\n",
    "a = np.arange(12).reshape(3, 4)\n",
    "print(a)"
   ]
  },
  {
   "cell_type": "code",
   "execution_count": 123,
   "id": "0759e221-eead-4d40-8a5b-25b34a83659c",
   "metadata": {},
   "outputs": [
    {
     "name": "stdout",
     "output_type": "stream",
     "text": [
      "[ 2  4  6  8 10 12 14 16 18 20]\n"
     ]
    }
   ],
   "source": [
    "# 10. Even numbers between 1 and 20\n",
    "\n",
    "e=np.arange(2,21,2)\n",
    "print(e\n",
    "     )"
   ]
  },
  {
   "cell_type": "code",
   "execution_count": 127,
   "id": "2afe1de9-4fc2-491d-a0e8-cd45291b2dd0",
   "metadata": {},
   "outputs": [
    {
     "name": "stdout",
     "output_type": "stream",
     "text": [
      "[[ 1.  1.  1.]\n",
      " [ 1. 99.  1.]\n",
      " [ 1.  1.  1.]]\n"
     ]
    }
   ],
   "source": [
    "# 11. 3x3 matrix with middle element 99\n",
    "a11 = np.ones((3, 3))\n",
    "a11[1,1]=99\n",
    "print(a11)"
   ]
  },
  {
   "cell_type": "code",
   "execution_count": 139,
   "id": "27eab2bb-dde9-416c-84c8-01898052ed4b",
   "metadata": {},
   "outputs": [
    {
     "name": "stdout",
     "output_type": "stream",
     "text": [
      "[ 9 89  7  7  6  5  4  3  2  1]\n"
     ]
    }
   ],
   "source": [
    "#Reverse a 1D array\n",
    "arr=np.array([1,2,3,4,5,6,7,7,89,9])\n",
    "print(arr[::-1])"
   ]
  },
  {
   "cell_type": "code",
   "execution_count": 143,
   "id": "5804bc71-4c90-43a3-a8fd-e9234c6f3530",
   "metadata": {},
   "outputs": [
    {
     "name": "stdout",
     "output_type": "stream",
     "text": [
      "Vertical Stack:\n",
      " [[1 2 3]\n",
      " [4 5 6]]\n",
      "Horizontal Stack:\n",
      " [1 2 3 4 5 6]\n"
     ]
    }
   ],
   "source": [
    "# 13. Stack arrays vertically and horizontally\n",
    "a = np.array([1, 2, 3])\n",
    "b = np.array([4, 5, 6])\n",
    "print(\"Vertical Stack:\\n\", np.vstack((a, b)))\n",
    "print(\"Horizontal Stack:\\n\", np.hstack((a, b)))\n"
   ]
  },
  {
   "cell_type": "code",
   "execution_count": 145,
   "id": "f386a71b-39b9-4228-9726-0cc575f6b377",
   "metadata": {},
   "outputs": [
    {
     "name": "stdout",
     "output_type": "stream",
     "text": [
      "[1. 2. 3. 4.]\n"
     ]
    }
   ],
   "source": [
    "# 15. Square root of each element\n",
    "a15 = np.array([1, 4, 9, 16])\n",
    "print(np.sqrt(a15))\n"
   ]
  },
  {
   "cell_type": "code",
   "execution_count": 147,
   "id": "ebc5a847-244e-4591-b066-82137f8953f4",
   "metadata": {},
   "outputs": [
    {
     "name": "stdout",
     "output_type": "stream",
     "text": [
      "[45 50 30 50]\n"
     ]
    }
   ],
   "source": [
    "#Replace elements > 50 with 50\n",
    "a16 = np.array([45, 60, 30, 70])\n",
    "a16[a16 > 50] = 50\n",
    "print(a16)"
   ]
  },
  {
   "cell_type": "code",
   "execution_count": 149,
   "id": "4df6ef58-72f4-4a5c-82ab-03112013e49a",
   "metadata": {},
   "outputs": [
    {
     "name": "stdout",
     "output_type": "stream",
     "text": [
      "Row sums: [ 6 15]\n",
      "Column sums: [5 7 9]\n"
     ]
    }
   ],
   "source": [
    "# 18. Row and column sums\n",
    "a = np.array([[1, 2, 3], [4, 5, 6]])\n",
    "print(\"Row sums:\", a.sum(axis=1))\n",
    "print(\"Column sums:\", a.sum(axis=0))\n"
   ]
  },
  {
   "cell_type": "code",
   "execution_count": 153,
   "id": "eddc675e-e541-42ae-8d6a-f0d56797d2eb",
   "metadata": {},
   "outputs": [
    {
     "data": {
      "text/plain": [
       "array([ True, False, False])"
      ]
     },
     "execution_count": 153,
     "metadata": {},
     "output_type": "execute_result"
    }
   ],
   "source": [
    "a = np.array([1, 2, 3])\n",
    "b = np.array([1, 5, 6])\n",
    "a==b"
   ]
  },
  {
   "cell_type": "code",
   "execution_count": null,
   "id": "f3188c8c-74c2-40ae-a2f0-2dc74998adb9",
   "metadata": {},
   "outputs": [],
   "source": []
  }
 ],
 "metadata": {
  "kernelspec": {
   "display_name": "Python [conda env:base] *",
   "language": "python",
   "name": "conda-base-py"
  },
  "language_info": {
   "codemirror_mode": {
    "name": "ipython",
    "version": 3
   },
   "file_extension": ".py",
   "mimetype": "text/x-python",
   "name": "python",
   "nbconvert_exporter": "python",
   "pygments_lexer": "ipython3",
   "version": "3.12.7"
  }
 },
 "nbformat": 4,
 "nbformat_minor": 5
}
