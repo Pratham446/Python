{
 "cells": [
  {
   "cell_type": "code",
   "execution_count": null,
   "id": "9beca657-1ef6-4b8f-a436-69ec618b98e6",
   "metadata": {},
   "outputs": [],
   "source": [
    "# Numpy is Highly Optimised and use low level code in backend (c program)\n",
    "# it stores data in contagious memory block making acces faster then list \n",
    "# why we use Numpy -> to overcome slowness of List \n",
    "\n",
    "# Efficient Array Handling: NumPy arrays are more efficient in terms of memory and performance compared to \n",
    "# standard Python lists. They allow you to store large amounts of data and perform computations efficiently.\n",
    "\n",
    "# # Vectorized Operations: NumPy supports vectorized operations, which means you can perform element-wise operations\n",
    "#     on arrays without using explicit loops. This makes code shorter and faster.\n",
    "\n",
    "# # Mathematical Functions: It provides a wide range of mathematical functions like linear algebra, statistical \n",
    "# functions, and random number generation.\n",
    "\n",
    "# # Interoperability: NumPy arrays can be used with other libraries like Pandas, SciPy, and Matplotlib. \n",
    "#     It is also a foundation for many other Python libraries used in data science and machine learning.\n",
    "\n",
    "# # Multidimensional Arrays: NumPy allows you to create and manipulate multi-dimensional arrays \n",
    "# (e.g., matrices, tensors), which is essential in fields like image processing, machine learning, and scientific computing.\n",
    "\n",
    "# # Broadcasting: NumPy supports broadcasting, which is a way to apply binary operations (like addition, subtraction) \n",
    "# on arrays of different shapes without explicit looping.\n",
    "\n",
    "# # Compatibility: It integrates seamlessly with C, C++, and Fortran libraries, allowing you to leverage \n",
    "# high-performance computing.\n",
    "\n"
   ]
  },
  {
   "cell_type": "code",
   "execution_count": 63,
   "id": "d33eb17e-c6e2-495c-afc9-57f76a184ad2",
   "metadata": {},
   "outputs": [
    {
     "name": "stdout",
     "output_type": "stream",
     "text": [
      "Python list addition time: 0.0002741813659667969\n",
      "[100000000000000000000]\n"
     ]
    }
   ],
   "source": [
    "import numpy as np\n",
    "import time \n",
    "\n",
    "# Python list for calculation of speed \n",
    "# size = 1_000000\n",
    "list1 = [10000000000]\n",
    "list2 = [10000000000]\n",
    "start = time.time()\n",
    "result = [x * y for x, y in zip(list1, list2)]\n",
    "end = time.time()\n",
    "print(\"Python list addition time:\", end - start)\n",
    "print(result)"
   ]
  },
  {
   "cell_type": "code",
   "execution_count": 67,
   "id": "d6deb400-eeee-43a8-8ef8-fd75669dddb2",
   "metadata": {},
   "outputs": [
    {
     "name": "stdout",
     "output_type": "stream",
     "text": [
      "[10000000000000000]\n",
      "0.0\n"
     ]
    }
   ],
   "source": [
    "\n",
    "# Numpy Array\n",
    "list1 = [100000000]\n",
    "list2 = [100000000]\n",
    "\n",
    "array1=np.array(list1)\n",
    "array2=np.array(list2)\n",
    "\n",
    "start=time.time()\n",
    "result = [x * y for x, y in zip(list1, list2)]\n",
    "stop=time.time()\n",
    "print(result)\n",
    "print(stop - start)"
   ]
  },
  {
   "cell_type": "code",
   "execution_count": 77,
   "id": "4552aa6b-bbdd-4b75-b1ee-cda24beb7b1c",
   "metadata": {},
   "outputs": [
    {
     "name": "stdout",
     "output_type": "stream",
     "text": [
      "[5, 12, 12, 32]\n"
     ]
    }
   ],
   "source": [
    "# Zip will merge 2 List\n",
    "l1=[1,2,3,4]\n",
    "l2=[5,6,4,8]\n",
    "result= [x*y for x,y in zip(l1,l2)]\n",
    "print(result)"
   ]
  },
  {
   "cell_type": "code",
   "execution_count": 93,
   "id": "1691b368-2a75-491c-9110-75c3bc63a2f2",
   "metadata": {},
   "outputs": [
    {
     "name": "stdout",
     "output_type": "stream",
     "text": [
      "[1 2 3 4]\n",
      "[[1 2 3]\n",
      " [4 5 6]]\n",
      "<class 'numpy.ndarray'>\n",
      "(2, 3)\n"
     ]
    }
   ],
   "source": [
    "# Creating numpy array \n",
    "\n",
    "arr1=np.array([1,2,3,4])\n",
    "print(arr1)\n",
    "\n",
    "arr2 = np.array([[1, 2, 3], [4, 5, 6]])\n",
    "print(arr2)\n",
    "\n",
    "print(type(arr1))\n",
    "print(arr2.shape)\n"
   ]
  },
  {
   "cell_type": "code",
   "execution_count": null,
   "id": "c7ebd09f-c235-4e65-8834-9d85ad6aa2df",
   "metadata": {},
   "outputs": [],
   "source": [
    "# Memory Efficiency – NumPy vs. Lists\n",
    "import sys\n",
    "\n",
    "list_data = list(range(1000))\n",
    "numpy_data = np.array(list_data)\n",
    "\n",
    "print(\"Python list size:\", sys.getsizeof(list_data) )\n",
    "print(\"NumPy array size:\", numpy_data.nbytes)"
   ]
  },
  {
   "cell_type": "code",
   "execution_count": 130,
   "id": "91a53261-1a99-45cb-a84f-bc0ee72cfc05",
   "metadata": {},
   "outputs": [
    {
     "name": "stdout",
     "output_type": "stream",
     "text": [
      "[1, 4, 9, 16]\n",
      "[ 1  4  9 16 25]\n"
     ]
    }
   ],
   "source": [
    "# Vectorization – No More Loops!\n",
    "# NumPy avoids loops by applying operations to entire arrays at once using \n",
    "# SIMD (Single Instruction, Multiple Data) and other low-level optimizations. \n",
    "# SIMD is a CPU-level optimization provided by modern processors.\n",
    "\n",
    "# Python list (loop-based)\n",
    "list1=[1,2,3,4]\n",
    "list_square=[x**2 for x in list1]\n",
    "print(list_square)\n",
    "\n",
    "# NumPy (vectorized) NumPy avoids loops by applying operations to entire arrays at once using SIMD\n",
    "# (Single Instruction, Multiple Data) and other low-level optimizations. SIMD is a CPU-level \n",
    "# optimization provided by modern processors.\n",
    "arr1 = np.array([1, 2, 3, 4, 5])\n",
    "list_Square=arr1**2\n",
    "print(list_Square)"
   ]
  },
  {
   "cell_type": "code",
   "execution_count": 138,
   "id": "ea22f224-5a5e-43cb-bf46-74b82b684e03",
   "metadata": {},
   "outputs": [
    {
     "name": "stdout",
     "output_type": "stream",
     "text": [
      "(90,)\n"
     ]
    }
   ],
   "source": [
    "# Q1 Create a NumPy array with values from 10 to 100 and print its shape.\n",
    "arry1=np.array(range(10,100))\n",
    "print(arry1.shape)"
   ]
  },
  {
   "cell_type": "code",
   "execution_count": 163,
   "id": "b1a4cb48-64a8-43b6-80f0-786639a4595e",
   "metadata": {},
   "outputs": [
    {
     "name": "stdout",
     "output_type": "stream",
     "text": [
      "4000000\n"
     ]
    }
   ],
   "source": [
    "#Q2 Find the memory size of a NumPy array with 1 million elements\n",
    "\n",
    "import sys\n",
    "import numpy as np\n",
    "\n",
    "arr3 =np.array(range(1000000))\n",
    "print(arr3.nbytes)  # # Get the memory size in bytes"
   ]
  },
  {
   "cell_type": "code",
   "execution_count": null,
   "id": "83dbce7f-097c-4425-9752-37a5626c254d",
   "metadata": {},
   "outputs": [],
   "source": []
  }
 ],
 "metadata": {
  "kernelspec": {
   "display_name": "Python [conda env:base] *",
   "language": "python",
   "name": "conda-base-py"
  },
  "language_info": {
   "codemirror_mode": {
    "name": "ipython",
    "version": 3
   },
   "file_extension": ".py",
   "mimetype": "text/x-python",
   "name": "python",
   "nbconvert_exporter": "python",
   "pygments_lexer": "ipython3",
   "version": "3.12.7"
  }
 },
 "nbformat": 4,
 "nbformat_minor": 5
}
