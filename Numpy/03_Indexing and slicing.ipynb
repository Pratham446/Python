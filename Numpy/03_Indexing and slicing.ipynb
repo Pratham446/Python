{
 "cells": [
  {
   "cell_type": "code",
   "execution_count": 18,
   "id": "386c961e-38a6-4918-9df3-d247fcf397c3",
   "metadata": {},
   "outputs": [
    {
     "name": "stdout",
     "output_type": "stream",
     "text": [
      "[[ 10  20  30  40]\n",
      " [ 50  60  70  80]\n",
      " [ 90 100 110   0]\n",
      " [ 10  20  30  40]]\n"
     ]
    }
   ],
   "source": [
    "# Indexing and slicing \n",
    "#Slicing returns a view, not a copy! Changes affect the original array\n"
   ]
  },
  {
   "cell_type": "code",
   "execution_count": null,
   "id": "51f6b4f7-4295-4a87-9274-64148d9e261e",
   "metadata": {},
   "outputs": [],
   "source": [
    "\n",
    "import numpy as np\n",
    "arr=np.array([[10,20,30,40],[50,60,70,80],[90,100,110,0],[10,20,30,40]])\n",
    "print(arr)"
   ]
  },
  {
   "cell_type": "code",
   "execution_count": 24,
   "id": "4d102a9f-5182-4206-8345-03f664f4fc7f",
   "metadata": {},
   "outputs": [
    {
     "name": "stdout",
     "output_type": "stream",
     "text": [
      "[ 10  20  30  40  50  60  70  80  90 100 110   0  10  20  30  40]\n",
      "[10 20 30 40 50]\n",
      "[ 60  70  80  90 100 110   0  10  20  30  40]\n",
      "[ 70  80  90 100]\n",
      "[ 10  30  50  70  90 110  10  30]\n"
     ]
    }
   ],
   "source": [
    "array=arr.flatten()\n",
    "print(array)\n",
    "print(array[:5]) # before 5\n",
    "print(array[5:]) # After 5\n",
    "print(array[6:10]) # between 6-10\n",
    "print(array[::2]) # gap of 2\n",
    "\n"
   ]
  },
  {
   "cell_type": "code",
   "execution_count": 46,
   "id": "f0134fc8-8b3c-4df8-8508-1c1a92e2b95c",
   "metadata": {},
   "outputs": [
    {
     "name": "stdout",
     "output_type": "stream",
     "text": [
      "[    10     20     30 100000     50     60     70     80     90    100]\n"
     ]
    }
   ],
   "source": [
    "#Slicing returns a view, not a copy! Changes affect the original array\n",
    "array=np.array([ 10 , 20 , 30  ,40  ,50 , 60 , 70,  80  ,90 ,100 ])\n",
    "newarr=array[2:5]\n",
    "newarr[1]=100000\n",
    "print(array)\n"
   ]
  },
  {
   "cell_type": "code",
   "execution_count": 56,
   "id": "e7e99bc3-8e51-4b49-ba36-55d6b8c4a8e6",
   "metadata": {},
   "outputs": [
    {
     "name": "stdout",
     "output_type": "stream",
     "text": [
      "[1 4]\n"
     ]
    }
   ],
   "source": [
    "# fancy indexing \n",
    "ar=np.array([1,2,3,4])\n",
    "indx=[0,3] # passing index value \n",
    "print(ar[indx])"
   ]
  },
  {
   "cell_type": "code",
   "execution_count": null,
   "id": "3f4319c1-d5d5-4771-84bf-a52296d04937",
   "metadata": {},
   "outputs": [],
   "source": [
    "# boolean masking\n",
    "ar=np.array([1,2,3,4])\n",
    "mask=ar >2\n",
    "print\n"
   ]
  }
 ],
 "metadata": {
  "kernelspec": {
   "display_name": "Python [conda env:base] *",
   "language": "python",
   "name": "conda-base-py"
  },
  "language_info": {
   "codemirror_mode": {
    "name": "ipython",
    "version": 3
   },
   "file_extension": ".py",
   "mimetype": "text/x-python",
   "name": "python",
   "nbconvert_exporter": "python",
   "pygments_lexer": "ipython3",
   "version": "3.12.7"
  }
 },
 "nbformat": 4,
 "nbformat_minor": 5
}
